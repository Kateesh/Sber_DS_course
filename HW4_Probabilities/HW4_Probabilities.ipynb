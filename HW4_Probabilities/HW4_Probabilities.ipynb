{
 "cells": [
  {
   "cell_type": "markdown",
   "metadata": {
    "id": "pDrecLU-4QjS"
   },
   "source": [
    "# Практика\n",
    "Используемые библиотеки"
   ]
  },
  {
   "cell_type": "code",
   "execution_count": 1,
   "metadata": {},
   "outputs": [],
   "source": [
    "import pandas as pd\n",
    "import numpy as np\n",
    "import requests\n",
    "import io\n",
    "import re\n"
   ]
  },
  {
   "cell_type": "markdown",
   "metadata": {},
   "source": [
    "## Загрузка DataFrame\n",
    "### Задача 1\n",
    "На основании данных портала \"Открытые данные России\" о результатах Химического анализа родника в Нескучном саду https://data.gov.ru/opendata/7708660670-rodnik-neskuchniy-sad\n",
    "средствами библиотеки __Pandas__ сформируйте поле выводов по каждому анализирумомому параметру.\n",
    "Например, по показателю _pH_ получен результат _8.4 единицы pH_ при нормативе от _6 до 9 единиц pH_. Т.о. по данному показателю результат анализа в норме.\n",
    "Для решения задачи необходимо программно \"прочитать и понять\" значение столбца \"Норматив\" и выделенное численное значение сравнить с нормативом согласно логике норматива. Например, __6 >= pH >= 9__.\n",
    "В итоговом DataFrame столбец \"Показатель\" сделайте индексным.\n",
    "\n",
    "\n",
    "Загзрузка DataFrame выполняется непосредственно c сайта \"Открытые данные России\" https://data.gov.ru/opendata/7708660670-rodnik-neskuchniy-sad/data-20160608T1215-structure-20160608T1215.csv (см. код ниже).\n"
   ]
  },
  {
   "cell_type": "code",
   "execution_count": 2,
   "metadata": {},
   "outputs": [
    {
     "data": {
      "text/html": [
       "<div>\n",
       "<style scoped>\n",
       "    .dataframe tbody tr th:only-of-type {\n",
       "        vertical-align: middle;\n",
       "    }\n",
       "\n",
       "    .dataframe tbody tr th {\n",
       "        vertical-align: top;\n",
       "    }\n",
       "\n",
       "    .dataframe thead th {\n",
       "        text-align: right;\n",
       "    }\n",
       "</style>\n",
       "<table border=\"1\" class=\"dataframe\">\n",
       "  <thead>\n",
       "    <tr style=\"text-align: right;\">\n",
       "      <th></th>\n",
       "      <th>Показатель</th>\n",
       "      <th>Единица измерений</th>\n",
       "      <th>Результат анализа</th>\n",
       "      <th>Норматив</th>\n",
       "    </tr>\n",
       "  </thead>\n",
       "  <tbody>\n",
       "    <tr>\n",
       "      <th>0</th>\n",
       "      <td>pH</td>\n",
       "      <td>единицы pH</td>\n",
       "      <td>8.4</td>\n",
       "      <td>в пределах 6-9</td>\n",
       "    </tr>\n",
       "    <tr>\n",
       "      <th>1</th>\n",
       "      <td>Запах</td>\n",
       "      <td>баллы</td>\n",
       "      <td>1</td>\n",
       "      <td>не более 2-3</td>\n",
       "    </tr>\n",
       "    <tr>\n",
       "      <th>2</th>\n",
       "      <td>Цветность</td>\n",
       "      <td>градусы</td>\n",
       "      <td>б/цвета</td>\n",
       "      <td>не более 30</td>\n",
       "    </tr>\n",
       "    <tr>\n",
       "      <th>3</th>\n",
       "      <td>Жёсткость</td>\n",
       "      <td>мг-эквл/дм3</td>\n",
       "      <td>9.199999999999999</td>\n",
       "      <td>в пределах 7-10</td>\n",
       "    </tr>\n",
       "    <tr>\n",
       "      <th>4</th>\n",
       "      <td>Аммиак и аммоний-ион (по азоту)</td>\n",
       "      <td>мг/дм3</td>\n",
       "      <td>0.42</td>\n",
       "      <td>не более 1,5</td>\n",
       "    </tr>\n",
       "    <tr>\n",
       "      <th>5</th>\n",
       "      <td>Нитриты (по NO2)</td>\n",
       "      <td>мг/дм3</td>\n",
       "      <td>0.017</td>\n",
       "      <td>не более 3,3</td>\n",
       "    </tr>\n",
       "    <tr>\n",
       "      <th>6</th>\n",
       "      <td>Нитраты (по NO3)</td>\n",
       "      <td>мг/дм3</td>\n",
       "      <td>24</td>\n",
       "      <td>не более 45</td>\n",
       "    </tr>\n",
       "    <tr>\n",
       "      <th>7</th>\n",
       "      <td>Фосфаты (P)</td>\n",
       "      <td>мг/дм3</td>\n",
       "      <td>0.36</td>\n",
       "      <td>не более 3,5</td>\n",
       "    </tr>\n",
       "    <tr>\n",
       "      <th>8</th>\n",
       "      <td>Хлориды (Cl)</td>\n",
       "      <td>мг/дм3</td>\n",
       "      <td>200</td>\n",
       "      <td>не более 350</td>\n",
       "    </tr>\n",
       "    <tr>\n",
       "      <th>9</th>\n",
       "      <td>Сульфаты (SO4)</td>\n",
       "      <td>мг/дм3</td>\n",
       "      <td>189.5</td>\n",
       "      <td>не более 500</td>\n",
       "    </tr>\n",
       "    <tr>\n",
       "      <th>10</th>\n",
       "      <td>Железо (включая хлорное железо) по Fe</td>\n",
       "      <td>мг/дм3</td>\n",
       "      <td>0.019</td>\n",
       "      <td>не более 0,3</td>\n",
       "    </tr>\n",
       "    <tr>\n",
       "      <th>11</th>\n",
       "      <td>Нефть</td>\n",
       "      <td>мг/дм3</td>\n",
       "      <td>0.55</td>\n",
       "      <td>не более 0,3</td>\n",
       "    </tr>\n",
       "    <tr>\n",
       "      <th>12</th>\n",
       "      <td>Общая минерализация (сухой остаток)</td>\n",
       "      <td>мг/дм3</td>\n",
       "      <td>590</td>\n",
       "      <td>не более 1000</td>\n",
       "    </tr>\n",
       "    <tr>\n",
       "      <th>13</th>\n",
       "      <td>Окисляемость перманганатная</td>\n",
       "      <td>мг/дм3</td>\n",
       "      <td>2</td>\n",
       "      <td>не более 0,5</td>\n",
       "    </tr>\n",
       "  </tbody>\n",
       "</table>\n",
       "</div>"
      ],
      "text/plain": [
       "                               Показатель Единица измерений  \\\n",
       "0                                      pH        единицы pH   \n",
       "1                                   Запах             баллы   \n",
       "2                               Цветность           градусы   \n",
       "3                               Жёсткость       мг-эквл/дм3   \n",
       "4         Аммиак и аммоний-ион (по азоту)            мг/дм3   \n",
       "5                        Нитриты (по NO2)            мг/дм3   \n",
       "6                        Нитраты (по NO3)            мг/дм3   \n",
       "7                             Фосфаты (P)            мг/дм3   \n",
       "8                            Хлориды (Cl)            мг/дм3   \n",
       "9                          Сульфаты (SO4)            мг/дм3   \n",
       "10  Железо (включая хлорное железо) по Fe            мг/дм3   \n",
       "11                                  Нефть            мг/дм3   \n",
       "12    Общая минерализация (сухой остаток)            мг/дм3   \n",
       "13            Окисляемость перманганатная            мг/дм3   \n",
       "\n",
       "    Результат анализа         Норматив  \n",
       "0                 8.4   в пределах 6-9  \n",
       "1                   1     не более 2-3  \n",
       "2             б/цвета      не более 30  \n",
       "3   9.199999999999999  в пределах 7-10  \n",
       "4                0.42     не более 1,5  \n",
       "5               0.017     не более 3,3  \n",
       "6                  24      не более 45  \n",
       "7                0.36     не более 3,5  \n",
       "8                 200     не более 350  \n",
       "9               189.5     не более 500  \n",
       "10              0.019     не более 0,3  \n",
       "11               0.55     не более 0,3  \n",
       "12                590    не более 1000  \n",
       "13                  2     не более 0,5  "
      ]
     },
     "metadata": {},
     "output_type": "display_data"
    }
   ],
   "source": [
    "url =\"https://data.gov.ru/opendata/7708660670-rodnik-neskuchniy-sad/data-20160608T1215-structure-20160608T1215.csv\"\n",
    "s = requests.get(url).content\n",
    "df=pd.read_csv(io.StringIO(s.decode('UTF8')))\n",
    "\n",
    "\n",
    "# df=pd.read_csv(\"Химический анализ родника в Нескучном саду.csv\", sep=';')\n",
    "display(df)\n"
   ]
  },
  {
   "cell_type": "code",
   "execution_count": 3,
   "metadata": {},
   "outputs": [],
   "source": [
    "# Ваше решение"
   ]
  },
  {
   "cell_type": "code",
   "execution_count": 4,
   "metadata": {},
   "outputs": [],
   "source": [
    "df2 = df"
   ]
  },
  {
   "cell_type": "code",
   "execution_count": 5,
   "metadata": {},
   "outputs": [
    {
     "data": {
      "text/html": [
       "<div>\n",
       "<style scoped>\n",
       "    .dataframe tbody tr th:only-of-type {\n",
       "        vertical-align: middle;\n",
       "    }\n",
       "\n",
       "    .dataframe tbody tr th {\n",
       "        vertical-align: top;\n",
       "    }\n",
       "\n",
       "    .dataframe thead th {\n",
       "        text-align: right;\n",
       "    }\n",
       "</style>\n",
       "<table border=\"1\" class=\"dataframe\">\n",
       "  <thead>\n",
       "    <tr style=\"text-align: right;\">\n",
       "      <th></th>\n",
       "      <th>Показатель</th>\n",
       "      <th>Единица измерений</th>\n",
       "      <th>Результат анализа</th>\n",
       "      <th>Норматив</th>\n",
       "    </tr>\n",
       "  </thead>\n",
       "  <tbody>\n",
       "    <tr>\n",
       "      <th>0</th>\n",
       "      <td>pH</td>\n",
       "      <td>единицы pH</td>\n",
       "      <td>8.4</td>\n",
       "      <td>в пределах 6-9</td>\n",
       "    </tr>\n",
       "    <tr>\n",
       "      <th>1</th>\n",
       "      <td>Запах</td>\n",
       "      <td>баллы</td>\n",
       "      <td>1</td>\n",
       "      <td>не более 2-3</td>\n",
       "    </tr>\n",
       "    <tr>\n",
       "      <th>2</th>\n",
       "      <td>Цветность</td>\n",
       "      <td>градусы</td>\n",
       "      <td>б/цвета</td>\n",
       "      <td>не более 30</td>\n",
       "    </tr>\n",
       "    <tr>\n",
       "      <th>3</th>\n",
       "      <td>Жёсткость</td>\n",
       "      <td>мг-эквл/дм3</td>\n",
       "      <td>9.199999999999999</td>\n",
       "      <td>в пределах 7-10</td>\n",
       "    </tr>\n",
       "    <tr>\n",
       "      <th>4</th>\n",
       "      <td>Аммиак и аммоний-ион (по азоту)</td>\n",
       "      <td>мг/дм3</td>\n",
       "      <td>0.42</td>\n",
       "      <td>не более 1,5</td>\n",
       "    </tr>\n",
       "    <tr>\n",
       "      <th>5</th>\n",
       "      <td>Нитриты (по NO2)</td>\n",
       "      <td>мг/дм3</td>\n",
       "      <td>0.017</td>\n",
       "      <td>не более 3,3</td>\n",
       "    </tr>\n",
       "    <tr>\n",
       "      <th>6</th>\n",
       "      <td>Нитраты (по NO3)</td>\n",
       "      <td>мг/дм3</td>\n",
       "      <td>24</td>\n",
       "      <td>не более 45</td>\n",
       "    </tr>\n",
       "    <tr>\n",
       "      <th>7</th>\n",
       "      <td>Фосфаты (P)</td>\n",
       "      <td>мг/дм3</td>\n",
       "      <td>0.36</td>\n",
       "      <td>не более 3,5</td>\n",
       "    </tr>\n",
       "    <tr>\n",
       "      <th>8</th>\n",
       "      <td>Хлориды (Cl)</td>\n",
       "      <td>мг/дм3</td>\n",
       "      <td>200</td>\n",
       "      <td>не более 350</td>\n",
       "    </tr>\n",
       "    <tr>\n",
       "      <th>9</th>\n",
       "      <td>Сульфаты (SO4)</td>\n",
       "      <td>мг/дм3</td>\n",
       "      <td>189.5</td>\n",
       "      <td>не более 500</td>\n",
       "    </tr>\n",
       "    <tr>\n",
       "      <th>10</th>\n",
       "      <td>Железо (включая хлорное железо) по Fe</td>\n",
       "      <td>мг/дм3</td>\n",
       "      <td>0.019</td>\n",
       "      <td>не более 0,3</td>\n",
       "    </tr>\n",
       "    <tr>\n",
       "      <th>11</th>\n",
       "      <td>Нефть</td>\n",
       "      <td>мг/дм3</td>\n",
       "      <td>0.55</td>\n",
       "      <td>не более 0,3</td>\n",
       "    </tr>\n",
       "    <tr>\n",
       "      <th>12</th>\n",
       "      <td>Общая минерализация (сухой остаток)</td>\n",
       "      <td>мг/дм3</td>\n",
       "      <td>590</td>\n",
       "      <td>не более 1000</td>\n",
       "    </tr>\n",
       "    <tr>\n",
       "      <th>13</th>\n",
       "      <td>Окисляемость перманганатная</td>\n",
       "      <td>мг/дм3</td>\n",
       "      <td>2</td>\n",
       "      <td>не более 0,5</td>\n",
       "    </tr>\n",
       "  </tbody>\n",
       "</table>\n",
       "</div>"
      ],
      "text/plain": [
       "                               Показатель Единица измерений  \\\n",
       "0                                      pH        единицы pH   \n",
       "1                                   Запах             баллы   \n",
       "2                               Цветность           градусы   \n",
       "3                               Жёсткость       мг-эквл/дм3   \n",
       "4         Аммиак и аммоний-ион (по азоту)            мг/дм3   \n",
       "5                        Нитриты (по NO2)            мг/дм3   \n",
       "6                        Нитраты (по NO3)            мг/дм3   \n",
       "7                             Фосфаты (P)            мг/дм3   \n",
       "8                            Хлориды (Cl)            мг/дм3   \n",
       "9                          Сульфаты (SO4)            мг/дм3   \n",
       "10  Железо (включая хлорное железо) по Fe            мг/дм3   \n",
       "11                                  Нефть            мг/дм3   \n",
       "12    Общая минерализация (сухой остаток)            мг/дм3   \n",
       "13            Окисляемость перманганатная            мг/дм3   \n",
       "\n",
       "    Результат анализа         Норматив  \n",
       "0                 8.4   в пределах 6-9  \n",
       "1                   1     не более 2-3  \n",
       "2             б/цвета      не более 30  \n",
       "3   9.199999999999999  в пределах 7-10  \n",
       "4                0.42     не более 1,5  \n",
       "5               0.017     не более 3,3  \n",
       "6                  24      не более 45  \n",
       "7                0.36     не более 3,5  \n",
       "8                 200     не более 350  \n",
       "9               189.5     не более 500  \n",
       "10              0.019     не более 0,3  \n",
       "11               0.55     не более 0,3  \n",
       "12                590    не более 1000  \n",
       "13                  2     не более 0,5  "
      ]
     },
     "execution_count": 5,
     "metadata": {},
     "output_type": "execute_result"
    }
   ],
   "source": [
    "df2"
   ]
  },
  {
   "cell_type": "code",
   "execution_count": 6,
   "metadata": {},
   "outputs": [
    {
     "name": "stdout",
     "output_type": "stream",
     "text": [
      "<class 'pandas.core.frame.DataFrame'>\n",
      "RangeIndex: 14 entries, 0 to 13\n",
      "Data columns (total 4 columns):\n",
      " #   Column             Non-Null Count  Dtype \n",
      "---  ------             --------------  ----- \n",
      " 0   Показатель         14 non-null     object\n",
      " 1   Единица измерений  14 non-null     object\n",
      " 2   Результат анализа  14 non-null     object\n",
      " 3   Норматив           14 non-null     object\n",
      "dtypes: object(4)\n",
      "memory usage: 576.0+ bytes\n"
     ]
    }
   ],
   "source": [
    "df2.info()"
   ]
  },
  {
   "cell_type": "code",
   "execution_count": 7,
   "metadata": {},
   "outputs": [],
   "source": [
    "df2.iloc[2,2] = 0\n",
    "df2.iloc[1,3] = 'не более 3'\n",
    "\n",
    "df2['Результат анализа'] = df2['Результат анализа'].astype('float')\n",
    "df2['Норматив'] = df2['Норматив'].str.replace(',', '.')"
   ]
  },
  {
   "cell_type": "code",
   "execution_count": 8,
   "metadata": {},
   "outputs": [],
   "source": [
    "df2['norm_min'] = 0"
   ]
  },
  {
   "cell_type": "code",
   "execution_count": 9,
   "metadata": {},
   "outputs": [],
   "source": [
    "df2.loc[df2['Норматив'].str.contains('не') == True, 'norm_max'] = df2['Норматив'].str.replace('не более ','',regex=True)\n",
    "df2.loc[df2['Норматив'].str.contains('в') == True, 'norm_max'] = df2['Норматив'].str.extract(r'[-](.*)', expand=False)\n",
    "df2.loc[df2['Норматив'].str.contains('в') == True, 'norm_min'] = df2['Норматив'].str.extract(r'[в пределах ](\\d)', expand=False)"
   ]
  },
  {
   "cell_type": "code",
   "execution_count": 10,
   "metadata": {},
   "outputs": [],
   "source": [
    "df2['norm_min'] = df2['norm_min'].astype('float')\n",
    "df2['norm_max'] = df2['norm_max'].astype('float')"
   ]
  },
  {
   "cell_type": "code",
   "execution_count": 11,
   "metadata": {},
   "outputs": [],
   "source": [
    "df2['Результат'] = 'норма'\n",
    "df2.loc[((df2['Результат анализа'] < df2['norm_min']) | \\\n",
    "         (df2['Результат анализа'] > df2['norm_max'])), \\\n",
    "        'Результат'] = 'не норма'\n",
    "\n",
    "df2.iloc[2,2] = 'б/цвета'\n",
    "df2.iloc[1,3] = 'не более 2-3'"
   ]
  },
  {
   "cell_type": "code",
   "execution_count": 12,
   "metadata": {},
   "outputs": [
    {
     "data": {
      "text/plain": [
       "Index(['Показатель', 'Единица измерений', 'Результат анализа', 'Норматив',\n",
       "       'norm_min', 'norm_max', 'Результат'],\n",
       "      dtype='object')"
      ]
     },
     "execution_count": 12,
     "metadata": {},
     "output_type": "execute_result"
    }
   ],
   "source": [
    "df2.columns"
   ]
  },
  {
   "cell_type": "code",
   "execution_count": 13,
   "metadata": {},
   "outputs": [],
   "source": [
    "df3 = df2[['Показатель', 'Единица измерений', 'Результат анализа', 'Норматив', 'Результат']].set_index('Показатель')"
   ]
  },
  {
   "cell_type": "code",
   "execution_count": 14,
   "metadata": {},
   "outputs": [
    {
     "data": {
      "text/html": [
       "<div>\n",
       "<style scoped>\n",
       "    .dataframe tbody tr th:only-of-type {\n",
       "        vertical-align: middle;\n",
       "    }\n",
       "\n",
       "    .dataframe tbody tr th {\n",
       "        vertical-align: top;\n",
       "    }\n",
       "\n",
       "    .dataframe thead th {\n",
       "        text-align: right;\n",
       "    }\n",
       "</style>\n",
       "<table border=\"1\" class=\"dataframe\">\n",
       "  <thead>\n",
       "    <tr style=\"text-align: right;\">\n",
       "      <th></th>\n",
       "      <th>Единица измерений</th>\n",
       "      <th>Результат анализа</th>\n",
       "      <th>Норматив</th>\n",
       "      <th>Результат</th>\n",
       "    </tr>\n",
       "    <tr>\n",
       "      <th>Показатель</th>\n",
       "      <th></th>\n",
       "      <th></th>\n",
       "      <th></th>\n",
       "      <th></th>\n",
       "    </tr>\n",
       "  </thead>\n",
       "  <tbody>\n",
       "    <tr>\n",
       "      <th>pH</th>\n",
       "      <td>единицы pH</td>\n",
       "      <td>8.4</td>\n",
       "      <td>в пределах 6-9</td>\n",
       "      <td>норма</td>\n",
       "    </tr>\n",
       "    <tr>\n",
       "      <th>Запах</th>\n",
       "      <td>баллы</td>\n",
       "      <td>1</td>\n",
       "      <td>не более 2-3</td>\n",
       "      <td>норма</td>\n",
       "    </tr>\n",
       "    <tr>\n",
       "      <th>Цветность</th>\n",
       "      <td>градусы</td>\n",
       "      <td>б/цвета</td>\n",
       "      <td>не более 30</td>\n",
       "      <td>норма</td>\n",
       "    </tr>\n",
       "    <tr>\n",
       "      <th>Жёсткость</th>\n",
       "      <td>мг-эквл/дм3</td>\n",
       "      <td>9.2</td>\n",
       "      <td>в пределах 7-10</td>\n",
       "      <td>норма</td>\n",
       "    </tr>\n",
       "    <tr>\n",
       "      <th>Аммиак и аммоний-ион (по азоту)</th>\n",
       "      <td>мг/дм3</td>\n",
       "      <td>0.42</td>\n",
       "      <td>не более 1.5</td>\n",
       "      <td>норма</td>\n",
       "    </tr>\n",
       "    <tr>\n",
       "      <th>Нитриты (по NO2)</th>\n",
       "      <td>мг/дм3</td>\n",
       "      <td>0.017</td>\n",
       "      <td>не более 3.3</td>\n",
       "      <td>норма</td>\n",
       "    </tr>\n",
       "    <tr>\n",
       "      <th>Нитраты (по NO3)</th>\n",
       "      <td>мг/дм3</td>\n",
       "      <td>24</td>\n",
       "      <td>не более 45</td>\n",
       "      <td>норма</td>\n",
       "    </tr>\n",
       "    <tr>\n",
       "      <th>Фосфаты (P)</th>\n",
       "      <td>мг/дм3</td>\n",
       "      <td>0.36</td>\n",
       "      <td>не более 3.5</td>\n",
       "      <td>норма</td>\n",
       "    </tr>\n",
       "    <tr>\n",
       "      <th>Хлориды (Cl)</th>\n",
       "      <td>мг/дм3</td>\n",
       "      <td>200</td>\n",
       "      <td>не более 350</td>\n",
       "      <td>норма</td>\n",
       "    </tr>\n",
       "    <tr>\n",
       "      <th>Сульфаты (SO4)</th>\n",
       "      <td>мг/дм3</td>\n",
       "      <td>189.5</td>\n",
       "      <td>не более 500</td>\n",
       "      <td>норма</td>\n",
       "    </tr>\n",
       "    <tr>\n",
       "      <th>Железо (включая хлорное железо) по Fe</th>\n",
       "      <td>мг/дм3</td>\n",
       "      <td>0.019</td>\n",
       "      <td>не более 0.3</td>\n",
       "      <td>норма</td>\n",
       "    </tr>\n",
       "    <tr>\n",
       "      <th>Нефть</th>\n",
       "      <td>мг/дм3</td>\n",
       "      <td>0.55</td>\n",
       "      <td>не более 0.3</td>\n",
       "      <td>не норма</td>\n",
       "    </tr>\n",
       "    <tr>\n",
       "      <th>Общая минерализация (сухой остаток)</th>\n",
       "      <td>мг/дм3</td>\n",
       "      <td>590</td>\n",
       "      <td>не более 1000</td>\n",
       "      <td>норма</td>\n",
       "    </tr>\n",
       "    <tr>\n",
       "      <th>Окисляемость перманганатная</th>\n",
       "      <td>мг/дм3</td>\n",
       "      <td>2</td>\n",
       "      <td>не более 0.5</td>\n",
       "      <td>не норма</td>\n",
       "    </tr>\n",
       "  </tbody>\n",
       "</table>\n",
       "</div>"
      ],
      "text/plain": [
       "                                      Единица измерений Результат анализа  \\\n",
       "Показатель                                                                  \n",
       "pH                                           единицы pH               8.4   \n",
       "Запах                                             баллы                 1   \n",
       "Цветность                                       градусы           б/цвета   \n",
       "Жёсткость                                   мг-эквл/дм3               9.2   \n",
       "Аммиак и аммоний-ион (по азоту)                  мг/дм3              0.42   \n",
       "Нитриты (по NO2)                                 мг/дм3             0.017   \n",
       "Нитраты (по NO3)                                 мг/дм3                24   \n",
       "Фосфаты (P)                                      мг/дм3              0.36   \n",
       "Хлориды (Cl)                                     мг/дм3               200   \n",
       "Сульфаты (SO4)                                   мг/дм3             189.5   \n",
       "Железо (включая хлорное железо) по Fe            мг/дм3             0.019   \n",
       "Нефть                                            мг/дм3              0.55   \n",
       "Общая минерализация (сухой остаток)              мг/дм3               590   \n",
       "Окисляемость перманганатная                      мг/дм3                 2   \n",
       "\n",
       "                                              Норматив Результат  \n",
       "Показатель                                                        \n",
       "pH                                      в пределах 6-9     норма  \n",
       "Запах                                     не более 2-3     норма  \n",
       "Цветность                                  не более 30     норма  \n",
       "Жёсткость                              в пределах 7-10     норма  \n",
       "Аммиак и аммоний-ион (по азоту)           не более 1.5     норма  \n",
       "Нитриты (по NO2)                          не более 3.3     норма  \n",
       "Нитраты (по NO3)                           не более 45     норма  \n",
       "Фосфаты (P)                               не более 3.5     норма  \n",
       "Хлориды (Cl)                              не более 350     норма  \n",
       "Сульфаты (SO4)                            не более 500     норма  \n",
       "Железо (включая хлорное железо) по Fe     не более 0.3     норма  \n",
       "Нефть                                     не более 0.3  не норма  \n",
       "Общая минерализация (сухой остаток)      не более 1000     норма  \n",
       "Окисляемость перманганатная               не более 0.5  не норма  "
      ]
     },
     "execution_count": 14,
     "metadata": {},
     "output_type": "execute_result"
    }
   ],
   "source": [
    "df3"
   ]
  },
  {
   "cell_type": "markdown",
   "metadata": {
    "id": "gUvTNDlMaV-a"
   },
   "source": [
    "## Теория вероятности. События\n",
    "\n",
    "Требуется сгенерировать необходимые выборки и произвести по ним расчеты"
   ]
  },
  {
   "cell_type": "markdown",
   "metadata": {
    "id": "t0XOMos2Tl0e"
   },
   "source": [
    "### Задача 2\n",
    "В ящике 5 апельсинов и 4 яблока. Наудачу выбираются 3 фрукта. Какова вероятность, что все три фрукта – апельсины?\n",
    "\n",
    "В интернете полученный аналитически ответ 0.119. Подтверждается ли он эксперементально?\n"
   ]
  },
  {
   "cell_type": "code",
   "execution_count": 15,
   "metadata": {
    "id": "o7NjAE9uUo-L"
   },
   "outputs": [],
   "source": [
    "# Ваше решение\n",
    "# т.к. не условие сформулировано недостаточно точно, возможно 2 варианта:"
   ]
  },
  {
   "cell_type": "code",
   "execution_count": 16,
   "metadata": {},
   "outputs": [
    {
     "name": "stdout",
     "output_type": "stream",
     "text": [
      "вероятность: 0.17272\n",
      "Аналитическое решение не подтверждается, если мы вытаскиваем 3 фрукта одновременно\n"
     ]
    }
   ],
   "source": [
    "fruits = ['Яблоко', 'Яблоко', 'Яблоко', 'Яблоко', 'Апельсин', 'Апельсин', 'Апельсин', 'Апельсин', 'Апельсин']\n",
    "count = 0\n",
    "simulations = 100000\n",
    "\n",
    "for i in range(simulations):\n",
    "    sample = np.random.choice(fruits, 3)\n",
    "    \n",
    "    if sample[0]==sample[1]==sample[2]=='Апельсин':\n",
    "        count +=1\n",
    "        \n",
    "print('вероятность:', count/simulations)\n",
    "print('Аналитическое решение не подтверждается, если мы вытаскиваем 3 фрукта одновременно')"
   ]
  },
  {
   "cell_type": "code",
   "execution_count": 17,
   "metadata": {},
   "outputs": [
    {
     "name": "stdout",
     "output_type": "stream",
     "text": [
      "вероятность: 0.12115\n",
      "Аналитическое решение подтверждается, если мы вытаскиваем фрукты по одному\n"
     ]
    }
   ],
   "source": [
    "population = fruits.copy()\n",
    "count = 0\n",
    "simulations = 100000\n",
    "\n",
    "for i in range(simulations):\n",
    "    \n",
    "    length = 0\n",
    "    pop = population.copy()\n",
    "    x = []\n",
    "\n",
    "    while (length < 3):\n",
    "        sample = np.random.choice(pop, 1)\n",
    "        pop.remove(sample[0])\n",
    "        x.append(sample[0])\n",
    "        length +=1\n",
    "    \n",
    "    if x[0]==x[1]==x[2]=='Апельсин':\n",
    "        count +=1\n",
    "        \n",
    "        \n",
    "print('вероятность:', count/simulations)\n",
    "print('Аналитическое решение подтверждается, если мы вытаскиваем фрукты по одному')"
   ]
  },
  {
   "cell_type": "code",
   "execution_count": null,
   "metadata": {},
   "outputs": [],
   "source": []
  },
  {
   "cell_type": "markdown",
   "metadata": {
    "id": "g7A7QlvGTnwZ"
   },
   "source": [
    "### Задача 3\n",
    "Мастер, имея 10 деталей, из которых 3 – нестандартных, проверяет детали одну за другой, пока ему не попадется стандартная. Какова вероятность, что он проверит ровно две детали?\n",
    "\n",
    "\n",
    "В интернете полученный аналитически ответ 7/30 или 0.23333. Подтверждается ли он эксперементально?"
   ]
  },
  {
   "cell_type": "code",
   "execution_count": 18,
   "metadata": {},
   "outputs": [],
   "source": [
    "# Ваше решение"
   ]
  },
  {
   "cell_type": "code",
   "execution_count": 19,
   "metadata": {},
   "outputs": [
    {
     "name": "stdout",
     "output_type": "stream",
     "text": [
      "вероятность: 0.23403\n",
      "Да, аналитический ответ подтверждается\n"
     ]
    }
   ],
   "source": [
    "population = ['Нестандартная', 'Нестандартная', 'Нестандартная', \\\n",
    "              'Обычная', 'Обычная', 'Обычная', 'Обычная', 'Обычная', 'Обычная', 'Обычная']\n",
    "count = 0\n",
    "simulations = 100000\n",
    "\n",
    "for i in range(simulations):\n",
    "    \n",
    "    x = 'Нестандартная'\n",
    "    length = 0\n",
    "    pop = population.copy()\n",
    "\n",
    "    while (x =='Нестандартная') and (len(pop)>0):\n",
    "        sample = np.random.choice(pop, 1)\n",
    "        pop.remove(sample[0])\n",
    "        x = sample\n",
    "        length +=1\n",
    "    \n",
    "    if length ==2:\n",
    "        count +=1\n",
    "        \n",
    "        \n",
    "print('вероятность:', count/simulations)\n",
    "print('Да, аналитический ответ подтверждается')"
   ]
  }
 ],
 "metadata": {
  "celltoolbar": "Raw Cell Format",
  "colab": {
   "collapsed_sections": [],
   "name": "Практика к занятию 11.ipynb",
   "provenance": []
  },
  "kernelspec": {
   "display_name": "Python 3",
   "language": "python",
   "name": "python3"
  },
  "language_info": {
   "codemirror_mode": {
    "name": "ipython",
    "version": 3
   },
   "file_extension": ".py",
   "mimetype": "text/x-python",
   "name": "python",
   "nbconvert_exporter": "python",
   "pygments_lexer": "ipython3",
   "version": "3.8.3"
  }
 },
 "nbformat": 4,
 "nbformat_minor": 1
}
