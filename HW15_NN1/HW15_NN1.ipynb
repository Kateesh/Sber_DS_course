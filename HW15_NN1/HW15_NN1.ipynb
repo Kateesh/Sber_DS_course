{
 "cells": [
  {
   "cell_type": "code",
   "execution_count": 1,
   "metadata": {},
   "outputs": [],
   "source": [
    "import torch\n",
    "import torch.nn as nn"
   ]
  },
  {
   "cell_type": "markdown",
   "metadata": {},
   "source": [
    "## Написать на PyTorch forward и backward полносвязного слоя без использования autograd"
   ]
  },
  {
   "cell_type": "code",
   "execution_count": null,
   "metadata": {},
   "outputs": [],
   "source": []
  },
  {
   "cell_type": "code",
   "execution_count": 2,
   "metadata": {},
   "outputs": [],
   "source": [
    "class NeuralNetwork(nn.Module):\n",
    "    def __init__(self, input_dim, output_dim):\n",
    "        super().__init__()\n",
    "        self.layer_1 = nn.Linear(input_dim, output_dim, bias = False)\n",
    "        self.activation = torch.nn.Sigmoid()\n",
    "       \n",
    "    def forward(self, x):\n",
    "        self.saved_tensors = x        \n",
    "        x = self.activation(self.layer_1(x))\n",
    "        \n",
    "        return x\n",
    "    \n",
    "    def backward(self, grad_output):    \n",
    "        x, = self.saved_tensors\n",
    "        return grad_output * [lambda x: (x * (1 - x))]"
   ]
  },
  {
   "cell_type": "markdown",
   "metadata": {},
   "source": [
    "## Написать 1-2 адаптивных оптимизатора"
   ]
  },
  {
   "cell_type": "code",
   "execution_count": 3,
   "metadata": {},
   "outputs": [],
   "source": [
    "class RMSprop:\n",
    "    def __init__(self, model_params, lr=1e-2, alpha=0.99, eps=1e-8):\n",
    "        self.model_params = list(model_params)\n",
    "        self.lr = lr\n",
    "        self.alpha = alpha\n",
    "        self.eps = eps\n",
    "        self.avg_sqr_grads = [torch.zeros_like(p) for p in self.model_params]\n",
    "\n",
    "    def zero_grad(self):\n",
    "        for param in self.model_params:\n",
    "            param.grad = None\n",
    "\n",
    "    @torch.no_grad()\n",
    "    def step(self):\n",
    "        for param, avg_sqr_grad in zip(self.model_params, self.avg_sqr_grads):\n",
    "            avg_sqr_grad.mul_(self.alpha).add_(param.grad * param.grad * (1 - self.alpha))\n",
    "            std = avg_sqr_grad.sqrt().add(self.eps)\n",
    "            param.sub_((self.lr / std) * param.grad)"
   ]
  },
  {
   "cell_type": "code",
   "execution_count": 4,
   "metadata": {},
   "outputs": [],
   "source": [
    "class Adadelta:\n",
    "    def __init__(self, model_params, lr=1.0, rho=0.9, eps=1e-6):\n",
    "        self.model_params = list(model_params)\n",
    "        self.lr = lr\n",
    "        self.rho = rho\n",
    "        self.eps = eps\n",
    "        self.avg_sqr_grads = [torch.zeros_like(p) for p in self.model_params]\n",
    "        self.avg_sqr_deltas = [torch.zeros_like(p) for p in self.model_params] \n",
    "\n",
    "    def zero_grad(self):\n",
    "        for param in self.model_params:\n",
    "            param.grad = None\n",
    "\n",
    "    @torch.no_grad()\n",
    "    def step(self):\n",
    "        for param, avg_sqr_grad, avg_sqr_delta in zip(self.model_params, \\\n",
    "                                                      self.avg_sqr_grads, \\\n",
    "                                                      self.avg_sqr_deltas):\n",
    "            avg_sqr_grad.mul_(self.rho).add_(param.grad * param.grad * (1 - self.rho))\n",
    "            std = avg_sqr_grad.add(self.eps).sqrt()\n",
    "            \n",
    "            delta = avg_sqr_delta.add(self.eps).sqrt().div(std).mul(param.grad)\n",
    "            param.sub_(self.lr * delta)\n",
    "            avg_sqr_delta.mul_(self.rho).add_(delta * delta * (1 - self.rho))"
   ]
  },
  {
   "cell_type": "markdown",
   "metadata": {},
   "source": [
    "## Решить задачу нахождения корней квадратного уравнения методом градиентного спуска"
   ]
  },
  {
   "cell_type": "code",
   "execution_count": 5,
   "metadata": {},
   "outputs": [],
   "source": [
    "cur_x = 3 \n",
    "rate = 0.01 \n",
    "precision = 0.000001 \n",
    "previous_step_size = 1 \n",
    "max_iters = 10000 \n",
    "iters = 0 "
   ]
  },
  {
   "cell_type": "code",
   "execution_count": 6,
   "metadata": {},
   "outputs": [],
   "source": [
    "# Equation:\n",
    "# 4x^2 - 10x = 0\n",
    "\n",
    "df = lambda x: (8*x - 10)"
   ]
  },
  {
   "cell_type": "code",
   "execution_count": 7,
   "metadata": {},
   "outputs": [
    {
     "name": "stdout",
     "output_type": "stream",
     "text": [
      "Solution: 1.2500106778837021\n"
     ]
    }
   ],
   "source": [
    "while previous_step_size > precision and iters < max_iters:\n",
    "    prev_x = cur_x \n",
    "    cur_x = cur_x - rate * df(prev_x) \n",
    "    previous_step_size = abs(cur_x - prev_x) \n",
    "    iters = iters + 1 \n",
    "    \n",
    "print(\"Solution:\", cur_x)"
   ]
  },
  {
   "cell_type": "code",
   "execution_count": null,
   "metadata": {},
   "outputs": [],
   "source": []
  }
 ],
 "metadata": {
  "kernelspec": {
   "display_name": "Python 3",
   "language": "python",
   "name": "python3"
  },
  "language_info": {
   "codemirror_mode": {
    "name": "ipython",
    "version": 3
   },
   "file_extension": ".py",
   "mimetype": "text/x-python",
   "name": "python",
   "nbconvert_exporter": "python",
   "pygments_lexer": "ipython3",
   "version": "3.8.3"
  }
 },
 "nbformat": 4,
 "nbformat_minor": 4
}
